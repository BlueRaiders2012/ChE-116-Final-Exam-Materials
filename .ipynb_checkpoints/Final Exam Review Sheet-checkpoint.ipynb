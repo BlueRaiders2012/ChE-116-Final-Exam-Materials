{
 "cells": [
  {
   "cell_type": "markdown",
   "metadata": {
    "slideshow": {
     "slide_type": "slide"
    }
   },
   "source": [
    "Logan Williamson\n",
    "====\n",
    "ChE 116 Final Exam Review Sheet\n",
    "====\n",
    "\n",
    "***"
   ]
  },
  {
   "cell_type": "code",
   "execution_count": 2,
   "metadata": {
    "collapsed": true
   },
   "outputs": [],
   "source": [
    "%matplotlib inline\n",
    "import numpy as np\n",
    "from math import sqrt, pi, erf, sin, cos\n",
    "import scipy.stats\n",
    "import scipy.optimize\n",
    "import scipy.integrate\n",
    "import matplotlib\n",
    "import matplotlib.pyplot as plt\n",
    "import seaborn"
   ]
  },
  {
   "cell_type": "markdown",
   "metadata": {},
   "source": [
    "***\n",
    "\n",
    "#EXAMINING THE NORMAL DISTRIBUTION AND CONFIDENCE INTERVALS \n",
    "\n",
    "##Central Limit Theorem\n",
    "\n",
    "Theorem: As the number of samples increases, the distribution will become normal.\n",
    "\n",
    "Inidcate if the CLT applies to the following process:\n",
    "\n",
    "* You take the yearly rainfall in 25 counties in Rochester and compute their average.\n",
    "* You compute the average rainfall in a paricular city over the last 25 years.\n",
    "* You have 20 temperature sensors placed inside of a batch reactor and compute their average.\n",
    "* You measure the weight of 25 chemical samples\n",
    "* You eat 25 random candy bars per day and sum up their calories.\n",
    "* Your scale is inaccurate due to 20 sources of error (e.g, electrical circuit components air pressure, calibration). Assume their error is additive. You meausre the weight of something.\n",
    "* Your scale is not normally distributed. Each time you weigh something, you weigh it 22 times and take the average.\n",
    "\n",
    "ANSWERS: Yes, yes, yes, no (you did not average them), yes, yes, yes\n",
    "\n",
    "Notes: In order to CLT to apply\n",
    "\n",
    "* Must have at least 20 samples\n",
    "* Must average/sum the samples"
   ]
  },
  {
   "cell_type": "markdown",
   "metadata": {
    "slideshow": {
     "slide_type": "slide"
    }
   },
   "source": [
    "##Z-Scores (Normal Distribution - USE WHEN # SAMPLES AT LEAST 25)\n",
    "\n",
    "*Double-Sided:\n",
    "    $$95\\space percent = 1.96$$\n",
    "    $$90\\space percent = 1.65$$\n",
    "\n",
    "*Single-Sided:\n",
    "    $$95\\space percent = 1.65$$"
   ]
  },
  {
   "cell_type": "code",
   "execution_count": 3,
   "metadata": {
    "collapsed": false
   },
   "outputs": [
    {
     "name": "stdout",
     "output_type": "stream",
     "text": [
      "1.95996398454\n",
      "1.64485362695\n",
      "1.64485362695\n"
     ]
    }
   ],
   "source": [
    "print scipy.stats.norm.ppf(0.975) #Finds a Z score for 95% C.I. DOUBLE-SIDED\n",
    "print scipy.stats.norm.ppf(0.95) #90% C.I. DOUBLE-SIDED\n",
    "print scipy.stats.norm.ppf(0.95) #95% C.I SINGLE-SIDED"
   ]
  },
  {
   "cell_type": "markdown",
   "metadata": {},
   "source": [
    "##T-Scores\n",
    "\n",
    "**DEPEND ON THE NUMBER OF SAMPLES....USE WHEN LESS THAN 25 SAMPLES**"
   ]
  },
  {
   "cell_type": "code",
   "execution_count": 4,
   "metadata": {
    "collapsed": false
   },
   "outputs": [
    {
     "name": "stdout",
     "output_type": "stream",
     "text": [
      "2.22813885196\n",
      "1.81246112281\n"
     ]
    }
   ],
   "source": [
    "print scipy.stats.t.ppf(0.975,df=10) #95% CI with 10 samples, DOUBLE-SIDED\n",
    "print scipy.stats.t.ppf(0.95, df=10) #95% CI with 10 samples, SINGLE-SIDED"
   ]
  },
  {
   "cell_type": "markdown",
   "metadata": {
    "slideshow": {
     "slide_type": "slide"
    }
   },
   "source": [
    "##Prediction Intervals ($\\mu$ and $\\sigma$ known)\n",
    "\n",
    "**Note: Prediction Intervals are $\\underline{PROBABILITY}$ !**\n",
    "\n",
    "* Double-Sided (95% then 90%):\n",
    "    $$x = \\mu \\pm 1.96\\sigma$$ or $$x = \\mu \\pm 1.65\\sigma$$\n",
    "  \n",
    "\n",
    "* Single-Sided (95%):\n",
    "    $$x = \\mu \\pm  1.65\\sigma$$\n",
    " \n",
    "    \n",
    "Example. Water flows through a pipe of various diameter with a mean velocity of 5 ft/s and STD of 1 ft/s. Construct a 95% double-sided Confidence Interval for the velocity of the water throughout the tube. "
   ]
  },
  {
   "cell_type": "code",
   "execution_count": 79,
   "metadata": {
    "collapsed": false
   },
   "outputs": [
    {
     "name": "stdout",
     "output_type": "stream",
     "text": [
      "With 95% C.I the velocity is 5.0 +/- 1.96 ft/s\n"
     ]
    }
   ],
   "source": [
    "mu = 5.0\n",
    "sigma = 1.0\n",
    "z = scipy.stats.norm.ppf(0.975)\n",
    "\n",
    "y = z * sigma\n",
    "print 'With 95% C.I the velocity is {} +/- {:.3} ft/s' .format(mu,y)\n"
   ]
  },
  {
   "cell_type": "markdown",
   "metadata": {},
   "source": [
    "##Confidence Intervals ($\\mu$ unknown, $\\sigma$ either known or unknown)\n",
    "\n",
    "\n",
    "**Note: Confidence Intervals are $\\underline{STATISTICS}$ !**\n",
    "\n",
    "When number of samples at least 25(CLT):\n",
    "    Use a NORMAL DISTRIBUTION.\n",
    "$$y = Z\\frac{\\sigma_{x}}{\\sqrt{N}}$$ \n",
    "\n",
    "\n",
    "\n",
    "When number of samples is less than 25:\n",
    "    Use a T DISTRIBUTION.\n",
    "$$y = T\\frac{\\sigma_{x}}{\\sqrt{N}}$$ \n",
    "\n",
    "\n",
    "THEN:\n",
    "$$ \\mu = \\bar{x} \\pm y$$\n",
    "\n",
    "Example. The diamter of a pipe was measure to have values of 10,7,6,7,7,7,10,11,12 inches. Construct a 95% C.I. for the diameter of the pipe."
   ]
  },
  {
   "cell_type": "code",
   "execution_count": 36,
   "metadata": {
    "collapsed": false
   },
   "outputs": [
    {
     "name": "stdout",
     "output_type": "stream",
     "text": [
      "95% C.I. for the diameter of the pipe is 8.55555555556 +/- 1.64821739189 inches\n"
     ]
    }
   ],
   "source": [
    "x = np.array([10,7,6,7,7,7,10,11,12])\n",
    "\n",
    "x_bar = np.mean(x)\n",
    "sigma_x = np.sqrt(np.var(x,ddof = 1))\n",
    "t = scipy.stats.t.ppf(0.975, df = len(x)) #Use T distribution bc less than 25 samples\n",
    "\n",
    "y = t * (sigma_x / np.sqrt(len(x)))\n",
    "\n",
    "print '95% C.I. for the diameter of the pipe is {} +/- {} inches' .format(x_bar, y)"
   ]
  },
  {
   "cell_type": "markdown",
   "metadata": {},
   "source": [
    "##Evaluating Integrals (Probability) on Standard (Z) Normal Distribution\n",
    "\n",
    "**This is synonymous to \"Interval Area\"**\n",
    "\n",
    "1. Convert to Z statistics: $Z = \\frac{y - \\mu}{\\sigma}$\n",
    "\n",
    "2. SINGLE SIDED $-\\infty$ to a value: $0.5[1+erf(Z / \\sqrt{2})]$\n",
    "\n",
    "3. SINGLE SIDED A value to $\\infty$: $1 - 0.5[1+erf(Z / \\sqrt{2})]$\n",
    "\n",
    "4. DOUBLE-SIDED: $0.5[erf(Z_{hi} /\\sqrt{2}) - erf(Z_{low} / \\sqrt{2})]$\n",
    "\n",
    "***"
   ]
  },
  {
   "cell_type": "markdown",
   "metadata": {},
   "source": [
    "#Optimization and Root Finding"
   ]
  },
  {
   "cell_type": "markdown",
   "metadata": {},
   "source": [
    "Root Finding:\n",
    "\n",
    "* Newton's Method (2 arguments.. function and starting point)\n",
    "* Powell Hybrid Method\n",
    "* Brent's Method (Bounded, No-starting point needed)\n",
    "\n",
    "Minimization: (Use an objective function or lambda x:)\n",
    "\n",
    "* Minimize (With Bounds and/or Constraints arguments (For each dimension))\n",
    "* Basin-Hopping (Non-Convex, need a constraints dictionary to use bounds)"
   ]
  },
  {
   "cell_type": "code",
   "execution_count": 27,
   "metadata": {
    "collapsed": false
   },
   "outputs": [
    {
     "name": "stdout",
     "output_type": "stream",
     "text": [
      "Root = 1.0\n"
     ]
    },
    {
     "data": {
      "image/png": "[encoded data removed]",
      "text/plain": [
       "<matplotlib.figure.Figure at 0x1b74db70>"
      ]
     },
     "metadata": {},
     "output_type": "display_data"
    }
   ],
   "source": [
    "#Root-Finding Using Newtons Method\n",
    "\n",
    "root = scipy.optimize.newton(lambda x: x**2 - 1, x0 = 1.)\n",
    "print 'Root =',root\n",
    "\n",
    "#Heres the Proof\n",
    "x = np.arange(-2,2,0.2)\n",
    "y = x**2 - 1\n",
    "plt.plot(x,y)\n",
    "plt.show()"
   ]
  },
  {
   "cell_type": "code",
   "execution_count": 39,
   "metadata": {
    "collapsed": false
   },
   "outputs": [
    {
     "name": "stdout",
     "output_type": "stream",
     "text": [
      "  status: 0\n",
      " success: True\n",
      "    nfev: 28\n",
      "     fun: -1.0\n",
      "       x: array([ 3.14159265])\n",
      " message: 'CONVERGENCE: NORM_OF_PROJECTED_GRADIENT_<=_PGTOL'\n",
      "     jac: array([ 0.])\n",
      "     nit: 4\n",
      "Using bounded minimizaiton the function is minimized at [ 3.14159265]\n",
      "                  nfev: 748\n",
      " minimization_failures: 0\n",
      "                   fun: -1.0\n",
      "                     x: array([ 3.14159265])\n",
      "               message: ['requested number of basinhopping iterations completed successfully']\n",
      "                   nit: 100\n",
      "Using Basinhopping the function is minimized at [ 3.14159265]\n"
     ]
    },
    {
     "data": {
      "image/png": "[encoded data removed]",
      "text/plain": [
       "<matplotlib.figure.Figure at 0x1b74d9e8>"
      ]
     },
     "metadata": {},
     "output_type": "display_data"
    }
   ],
   "source": [
    "#Bounded, 1D Minimization Example using Minimization\n",
    "\n",
    "result_minimize = scipy.optimize.minimize(lambda x: cos(x), x0 = [0.001], bounds = [(0.001, 2*pi)])\n",
    "print result_minimize\n",
    "print 'Using bounded minimizaiton the function is minimized at',result_minimize.x\n",
    "\n",
    "#Bounded, 1D Minimization using Basinhopping\n",
    "\n",
    "bounds_basin = {'bounds':[(0.001, 2.*pi)]} #Bounds must be in a dictionary for basinhopping\n",
    "result_basin = scipy.optimize.basinhopping(lambda x: cos(x), x0=[0.001], minimizer_kwargs = bounds_basin)\n",
    "print result_basin\n",
    "print 'Using Basinhopping the function is minimized at', result_basin.x\n",
    "\n",
    "#Plot of Function for proof\n",
    "x = np.arange(0,2*pi,0.001)\n",
    "y = np.cos(x)\n",
    "\n",
    "plt.plot(x,y)\n",
    "plt.show()"
   ]
  },
  {
   "cell_type": "markdown",
   "metadata": {},
   "source": [
    "***\n",
    "\n",
    "#HYPOTHESIS TESTS\n",
    "\n",
    "**See Unit 9 and Unit 10-1 Notes and HW 9 and HW 10**\n",
    "\n",
    "** $\\alpha = 0.05$ for 95% Confidence**\n",
    "\n",
    "----- Parametric Tests -----\n",
    "\n",
    "1. zM Test - Comparing a sample/samples vs population with known mean and known STD\n",
    "   * Null Hypothesis: The sample/samples came from the population\n",
    "\n",
    "2. T Test - Comparing a number of samples (At least 3 needed to compute sample STD) vs popuation with known mean and unknown STD\n",
    "   * Null Hypothesis: The samples came from the population\n",
    "\n",
    "For both of these: interval area = scipy.stats.norm.cdf(Z_hi) - scipy.stats.norm.cdf(Z_low) or scipy.stats.t.cdf(T_hi, # samples) - scipy.stats.t.cdf(T_low, #samples) then use 1 - interval_area to find p-value. \n",
    "\n",
    "\n",
    "----- Non-Parametric Tests -----\n",
    "\n",
    "1. Wilcoxon's Sum of Ranks Test - Unmatched Data[not necessarily same number], measuring one variable (aka Temperature)\n",
    "   * scipy.stats.ranksums\n",
    "   * Null Hypothesis: The two sets of measurements are from the same distribution\n",
    "\n",
    "2. Wilcoxon's Signed Ranks Test - Matched Data[data in tuples], measuring one variable (aka Pressure)\n",
    "   * scipy.stats.wilcoxon\n",
    "   * Null Hypothesis: The two sets of measurements are from the same distribution\n",
    "\n",
    "3. Spearman's Correlation Test - Matched Data, measuring different variables (Temperature and Pressure)\n",
    "   * scipy.stats.spearmanr\n",
    "   * Null Hypothesis: The two sets of Measurements are NOT CORRELATED\n",
    "\n",
    "----- Count Tests -----\n",
    "\n",
    "1. Poisson's Test - Less than 40 samples and percentage of successes less than 10% or greater than 90%\n",
    "   * interval_area = scipy.stats.poisson(x, mu) Then p = 2*(1 - interval_area) because double sided.\n",
    "   * Null Hypothesis: The number of observations (count) came from the known population (statistically significant)\n",
    "\n",
    "2. Binomial Test - two mutually exclusive classes (Look at HW 9)\n",
    "   * interval_area = scipy.stats.binom.cdf(x,n,p) then p = 2*(1 - interval_area) because double sided.\n",
    "   * Null Hypotheis: The number of observations (count) came from the known population (statistically significant)\n",
    "   \n",
    "----- Combining Multiple Hypothesis Tests -----\n",
    "\n",
    "1. Fisher's Method\n",
    "   * Unit 10-1\n",
    "   * Null Hypothesis: Orignal Null hypothesis of the individual p-values"
   ]
  },
  {
   "cell_type": "code",
   "execution_count": 34,
   "metadata": {
    "collapsed": false
   },
   "outputs": [
    {
     "name": "stdout",
     "output_type": "stream",
     "text": [
      "Overall p-value is 0.0351535478936 therefore reject null hypothesis\n"
     ]
    }
   ],
   "source": [
    "#Fisher's Method\n",
    "\n",
    "p_values = [0.10, 0.057]\n",
    "statistic = -2 * np.sum(np.log(p_values)) #log is natural log in python\n",
    "interval_area = (scipy.stats.chi2.cdf(statistic, 2 * len(p_values)))\n",
    "overall_p = 1 - interval_area\n",
    "print 'Overall p-value is' ,overall_p,'therefore reject null hypothesis'"
   ]
  },
  {
   "cell_type": "markdown",
   "metadata": {},
   "source": [
    "----- Test for Normality -----\n",
    "\n",
    "1. Shariro - Wilk Test\n",
    "   * Unit 10-1\n",
    "   * Null Hypothesis: Data is normal"
   ]
  },
  {
   "cell_type": "code",
   "execution_count": 29,
   "metadata": {
    "collapsed": false
   },
   "outputs": [
    {
     "name": "stdout",
     "output_type": "stream",
     "text": [
      "p-value = 0.248052805662 so accept null hypotheis therefore data is normal.\n"
     ]
    }
   ],
   "source": [
    "#Shariro Wilk Test\n",
    "data = [1.1,2.2,5.4,5.5,3.2,2.6,1.5]\n",
    "x = scipy.stats.shapiro(data)\n",
    "\n",
    "print 'p-value =',x[1],'so accept null hypotheis therefore data is normal.'"
   ]
  },
  {
   "cell_type": "markdown",
   "metadata": {},
   "source": [
    "***\n",
    "#REGRESSION\n",
    "\n",
    "##Least Squares Regression with NO UNCERTAINTY\n",
    "\n",
    "**See Unit 10 Notes and HW 10**\n",
    "\n",
    "* 3 cases: Linear least squares, multidimensional, non-linear\n",
    "\n",
    "Procedure:\n",
    "\n",
    "1. Define an objective function (one argument, N-dimensions)\n",
    "2. Return the SSR\n",
    "3. Minimize the objective function\n",
    "4. Plot data and least squares regression on same plot.\n",
    "5. Calculate goodness of fit.\n",
    "\n",
    "$\\underline{Linear}$ Regression Error Analysis:\n",
    "\n",
    "The variance in our estimated values ($S^2$) for slope and intercept are:\n",
    "\n",
    "$$S^2_{\\epsilon} =\\frac{\\sigma^2_{\\epsilon}}{N} =  \\frac{1}{N}\\sum_i \\left(\\hat{y}_i - y_i\\right)^2$$\n",
    "\n",
    "$$S^2_{\\alpha} = S^2_{\\epsilon} \\left[ \\frac{1}{N} + \\frac{\\bar{x}^2}{\\sum_i\\left(x_i - \\bar{x}\\right)^2}\\right]$$\n",
    "\n",
    "$$S^2_{\\beta} = \\frac{S^2_{\\epsilon}}{\\sum_i \\left(x_i - \\bar{x}\\right)^2}$$\n",
    "\n",
    "People then are interested in a quantity called **Standard Error**, which is the square root of our variance in our estimate ($S$). This is analogous to our denominators in confidence intervals and hypothesis tests, recall:\n",
    "\n",
    "$$Z = \\frac{\\bar{x} - \\mu}{\\sigma_x / \\sqrt{N}} = \\frac{\\bar{x} - \\mu}{S} $$\n",
    "\n"
   ]
  },
  {
   "cell_type": "code",
   "execution_count": 49,
   "metadata": {
    "collapsed": false
   },
   "outputs": [
    {
     "name": "stdout",
     "output_type": "stream",
     "text": [
      "   status: 0\n",
      "  success: True\n",
      "     njev: 7\n",
      "     nfev: 28\n",
      " hess_inv: array([[  2.84290852e+00,  -7.46150514e-03],\n",
      "       [ -7.46150514e-03,   1.99340780e-05]])\n",
      "      fun: 41.75097984438236\n",
      "        x: array([ 1.02033681,  0.20151977])\n",
      "  message: 'Optimization terminated successfully.'\n",
      "      jac: array([  0.00000000e+00,   5.24520874e-06])\n"
     ]
    },
    {
     "data": {
      "image/png": "[encoded data removed]",
      "text/plain": [
       "<matplotlib.figure.Figure at 0x1bbff748>"
      ]
     },
     "metadata": {},
     "output_type": "display_data"
    },
    {
     "name": "stdout",
     "output_type": "stream",
     "text": [
      "The standard error for the intercept is 4.87225290058\n",
      "p =  0.838326722784\n",
      "Accept the Null Hypothesis that there is no intercept.\n"
     ]
    }
   ],
   "source": [
    "#Example of Linear Regression with Error Analysis \n",
    "\n",
    "temperature = np.array([297.70, 309.02,  327.41,  352.27,  370.60,  376.25,  406.70,  420.97,  433.88,  448.29])\n",
    "pressure = np.array([57.07, 64.87,  68.93,  74.13,  77.40,  74.83,  81.22,  85.72,  90.35,  89.99])\n",
    "\n",
    "def obj(arg): #Objective functions take 1 argument but that argument can have N-dimensions\n",
    "    alpha = arg[0]\n",
    "    beta = arg[1]\n",
    "    yhat = alpha + beta * temperature\n",
    "    sse = np.sum((yhat - pressure)**2)\n",
    "    return sse\n",
    "\n",
    "result = scipy.optimize.minimize(obj, x0=[300,70])\n",
    "print result\n",
    "\n",
    "alpha_hat = result.x[0]\n",
    "beta_hat = result.x[1]\n",
    "\n",
    "plt.plot(temperature,pressure, 'o')\n",
    "plt.plot(temperature, alpha_hat + beta_hat * temperature)\n",
    "plt.show()\n",
    "\n",
    "\n",
    "#Error Analysis For the Presence of an intercept\n",
    "#Null Hypothesis - There is no intercept\n",
    "s2_epsilon = np.sum((pressure - alpha_hat - beta_hat * temperature) ** 2) / len(temperature)\n",
    "s2_alpha =  s2_epsilon * (1. / len(temperature) + np.mean(temperature) ** 2 / (np.sum((np.mean(temperature) - temperature) ** 2)))\n",
    "\n",
    "print 'The standard error for the intercept is', np.sqrt(s2_alpha)\n",
    "\n",
    "T = alpha_hat / sqrt(s2_alpha) #Because sqrt(S2_alpha) is the standard error in alpha\n",
    "interval_area = scipy.stats.t.cdf(T, len(temperature)) - scipy.stats.t.cdf(-T, len(temperature)) #Notice its a T-distribution\n",
    "print 'p = ',1 - interval_area\n",
    "print 'Accept the Null Hypothesis that there is no intercept.'"
   ]
  },
  {
   "cell_type": "markdown",
   "metadata": {},
   "source": [
    "**See Notes 10-2 For Multidimensional and Non-Linear Error Analysis**\n",
    "\n",
    "##Uncertainty Analysis (3 Methods)\n",
    "\n",
    "**See Unit 13 Lecture 1 and HW 13**\n",
    "\n",
    "1. Bootstrap Resampling with Quantiling (Non-Parametric, CH. 11)\n",
    "\n",
    "2. Exactly Compute (Parametric and can be used with any distribution, CH. 8)\n",
    "\n",
    "3. Error Propogation (Normal Distribution, CH. 13) **This one will be used the most\n",
    "\n",
    "####Error Propogation\n",
    "\n",
    "The method we're learning this time is to propogate standard deviation or confidence interval widths using derivatives. We use the following approximation:\n",
    "\n",
    "$$\\frac{\\Delta y}{\\Delta x} \\approx \\left.\\frac{dy}{dx}\\right|_{x=\\hat{x}}$$\n",
    "\n",
    "which is valid when $\\Delta x$ is small relative to $\\frac{dy}{dx}$.\n",
    "\n",
    "This approximation can be rewritten as:\n",
    "\n",
    "$$\\Delta y \\approx \\left.\\frac{dy}{dx}\\right|_{x=\\hat{x}}\\Delta x$$\n",
    "\n",
    "so a distance in $x$ can be turned into a distance in $y$ using the derivative. To solve our example, we'll get a confidence interval in $x$ and turn it into a confidence interval in $y$. Notice that we evaluate the derivative at the sample-mean (the most likely point).\n",
    "\n",
    "\n",
    "\n",
    "####Bottom Line\n",
    "\n",
    "\n",
    "Use Error Propogation if possible, then use bootstrapping if possible, then use exact parametric if necessary. Error propogation should be ruled out if a Shapiro-Wilk test fails for normality, if you know the data is not normal,  if the error is large, or if derivatives do not exist. Next, use bootstrapping unless the number of data points is small. Finally, use exact parametric. "
   ]
  },
  {
   "cell_type": "markdown",
   "metadata": {},
   "source": [
    "##Ordinary Least Squares Regression WITH UNCERTAINTY (5 Cases)\n",
    "\n",
    "**See Unit 14 and HW 13 For Standard Error Formulas**\n",
    "\n",
    "1. OLS with constant $y$ uncertainty in 1D\n",
    "2. OLS with constant $x$ uncertainty in 1D\n",
    "3. OLS with constant $x,y$ uncertainty in 1D\n",
    "4. OLS with multiple $y$ values in N-dimensions\n",
    "5. OLS with constant $x,y$ uncertainty in $M$-D"
   ]
  },
  {
   "cell_type": "markdown",
   "metadata": {},
   "source": [
    "##Weighted Least Squares Regression WITH UNCERTAINTY(3 Cases)\n",
    "\n",
    "**See Unit 14 and HW 13**\n",
    "\n",
    "1. WLS (Weighted Least-Squares) with variable $y$ uncertainty in 1D\n",
    "2. WLS with variable $x,y$ uncertainty in 1D\n",
    "3. NLWLS with variable uncertainty in $M$-D\n",
    "\n",
    "Although I mentioned bootstrapping last lecture, I decided to teach this approximation instead. Bootstrapping this problem is difficult and the trade-off in accuracy is not significant enough to justify. The equation for standard error in residuals becomes, with the approximation:\n",
    "\n",
    "$SSR = \\sum_i^N (\\hat{y} - y)^2$\n",
    "\n",
    "$$ y = \\alpha + \\beta x + \\epsilon$$\n",
    "\n",
    "$$S_{\\epsilon}^2 = \\frac{SSR + \\sum_i^N \\sigma_{y_i}^2 + \\sum_i^N \\beta\\sigma_{x_i}^2}{N}$$\n",
    "\n",
    "with $M$-dimensions it becomes:\n",
    "\n",
    "$$y = \\beta X + \\epsilon$$\n",
    "\n",
    "$$S_{\\epsilon}^2 = \\frac{SSR + \\sum_i^N \\sigma_{y_i}^2 + \\sum_j^M\\sum_i^N \\beta_j\\sigma_{x_{ij}}^2}{N}$$\n",
    "\n",
    "and with non-linearity/multiple dimensions it becomes:\n",
    "\n",
    "$$y = f(x) + \\epsilon$$\n",
    "\n",
    "$$S_{\\epsilon}^2 = \\frac{SSR+ \\sum_i^N \\sigma_{y_i}^2 + \\sum_j^M\\sum_i^N \\sigma^2_{f(x_i)}}{N}$$\n",
    "\n",
    "where\n",
    "\n",
    "$$\\sigma^2_{f(x_i)} = \\sum_j^M \\left(\\left.\\frac{\\partial f(x_1, \\ldots, x_N)}{\\partial x_j}\\right|_{f(x_i)}\\right)^2 \\left(\\sigma_{ x_{ij}}\\right)^2$$\n",
    "\n",
    "***"
   ]
  },
  {
   "cell_type": "markdown",
   "metadata": {},
   "source": [
    "#USING MLE AND BOOTSTRAP AND LIKELIHOOD RATIO TEST\n",
    "\n",
    "##Maximum Likelihood Estimation using Log-Likelihood Functions (Parametric)\n",
    "\n",
    "**See Unit 11 and HW 11**"
   ]
  },
  {
   "cell_type": "code",
   "execution_count": null,
   "metadata": {
    "collapsed": true
   },
   "outputs": [],
   "source": [
    "#Normal Distribution\n",
    "\n",
    "def norm_ll(mu, sigma, data):\n",
    "    ll_norm = -len(data) / 2. * np.log(2 * pi * sigma**2) - np.sum( (data - mu)**2 / (2 * sigma**2) )\n",
    "    return ll_norm\n",
    "\n",
    "#Exponential Distribution\n",
    "\n",
    "def exp_ll(lamb, data):\n",
    "    ll_exp = len(data) * np.log(lamb) - lamb * np.sum(data)\n",
    "    return ll_exp"
   ]
  },
  {
   "cell_type": "markdown",
   "metadata": {},
   "source": [
    "##Sampling using MLE with Bootstrap Resampling (Nonparametric) and Quantiling Confidence Intervals\n",
    "\n",
    "**See Unit 11 Lecture 2 and HW 11**"
   ]
  },
  {
   "cell_type": "code",
   "execution_count": 43,
   "metadata": {
    "collapsed": false
   },
   "outputs": [
    {
     "name": "stdout",
     "output_type": "stream",
     "text": [
      "95% Confidence interval for rate of exponential (lambda) using quantiling: [ 0.26003955  0.30254577]\n",
      "95% C.I. for Rate of Exponential = 0.28 +/- 0.02\n"
     ]
    }
   ],
   "source": [
    "#Example using an Exponential Distribution (1 parameter)\n",
    "prob_3_data = np.array([3.2244, 4.1327,  3.0415,  3.3252,  3.0334,  3.3537,  3.0778,  3.1752,  3.3267,  4.0439,  3.3105,  4.5029,  4.3982,  4.3311,  3.1275])\n",
    "\n",
    "def exp_ll(lamb, data):\n",
    "    return len(data) * np.log(lamb) - lamb * np.sum(data) #This is the natural log of the exponential function\n",
    "    \n",
    "N = 10000 #The number of times we'll estimate the parameters aka number of iterations\n",
    "bootstrap_results = np.empty((N)) #Create a place to store the data\n",
    "for i in range(N):\n",
    "    sampled_data = np.random.choice(prob_3_data, size=len(prob_3_data), replace=True)\n",
    "    result = scipy.optimize.minimize(lambda x: -exp_ll(x, sampled_data), x0=[1.], bounds = [(0.001, 100)]) #Bounded Minimazation\n",
    "    bootstrap_results[i] = result.x #Must have the [i]\n",
    "print '95% Confidence interval for rate of exponential (lambda) using quantiling:', np.percentile(bootstrap_results, [2.5, 97.5])\n",
    "print '95% C.I. for Rate of Exponential = 0.28 +/- 0.02' #Another way of expressing the Confidence Interval"
   ]
  },
  {
   "cell_type": "code",
   "execution_count": null,
   "metadata": {
    "collapsed": true
   },
   "outputs": [],
   "source": [
    "#Example using a Normal Distribution (2 parameters)\n",
    "\n",
    "def norm_ll(mu, sigma, data):\n",
    "    ll_norm = -len(data) / 2. * np.log(2 * pi * sigma**2) - np.sum( (data - mu)**2 / (2 * sigma**2) )\n",
    "    return ll_norm\n",
    "\n",
    "N = 2000#The number of times we'll estimate the parameters\n",
    "boot_results = np.empty( (N, 2) )\n",
    "for i in range(N):\n",
    "    #Create a synthetic copy of the data\n",
    "    sampled_data = np.random.choice(data, size=len(data), replace=True)\n",
    "    #don't forget to use your sampled data and not the real data\n",
    "    result = scipy.optimize.minimize(lambda x: -norm_ll(x[0], x[1], sampled_data), x0=[1.,1.])\n",
    "    boot_results[i, :] = result.x"
   ]
  },
  {
   "cell_type": "markdown",
   "metadata": {},
   "source": [
    "##Likelihood Ratio Test\n",
    "\n",
    "\n",
    "So, we have the following equations:\n",
    "\n",
    "$$\\hat{\\theta}_1 = (\\hat{x}, \\sigma_x)$$\n",
    "\n",
    "$$\\hat{\\theta}_0 = (0, \\sigma_x)$$\n",
    "\n",
    "$$l(\\hat{\\theta}) = \\ln P(x | \\hat{\\theta}) = \\sum_i p(x_i | \\hat{\\theta})$$\n",
    "\n",
    "$$p(x_i | \\hat{\\theta}) = \\frac{1}{\\sigma \\sqrt{2 \\pi}} e^{-\\frac{(x_i - \\mu)^2}{2\\sigma^2}}$$\n",
    "\n",
    "\n",
    "$$LR = 2[\\mathcal{l}(\\hat{\\theta_1}) - \\mathcal{l}(\\hat{\\theta_0})]$$\n",
    "\n",
    "$$q = 1$$\n",
    "\n",
    "Notice that $q=1$ because the difference between the two models is a fixed mean or a free mean, which is one dimension."
   ]
  },
  {
   "cell_type": "code",
   "execution_count": 48,
   "metadata": {
    "collapsed": false
   },
   "outputs": [
    {
     "name": "stdout",
     "output_type": "stream",
     "text": [
      "The p-value = 0.296479939724 therefore we accept the null model, meaning the the mean is zero, which we expected.\n"
     ]
    }
   ],
   "source": [
    "#Example of LRT using normal data\n",
    "\n",
    "#make data where mu actually is 0\n",
    "data = scipy.stats.norm.rvs(size=25, loc=0, scale=1)\n",
    "\n",
    "#treat the restricted model (null model)\n",
    "sigma = np.sqrt(np.var(data, ddof=1))\n",
    "ll_0 = np.sum( np.log(scipy.stats.norm.pdf(data, loc=0, scale=sigma)))\n",
    "\n",
    "#The unstrectied model (proposed model)\n",
    "sample_mean = np.mean(data)\n",
    "ll_1 = np.sum( np.log(scipy.stats.norm.pdf(data, loc=sample_mean, scale=sigma)))\n",
    "\n",
    "\n",
    "#Compute the LR sample statistic\n",
    "LR = 2 * (ll_1 - ll_0)\n",
    "\n",
    "#Now do hypothesis test using chi^2\n",
    "interval_area = scipy.stats.chi2.cdf(LR, df = 1) #Must have degrees of freedom argument\n",
    "p = 1 - interval_area\n",
    "print 'The p-value =',p,'therefore we accept the null model, meaning the the mean is zero, which we expected.'"
   ]
  },
  {
   "cell_type": "markdown",
   "metadata": {},
   "source": [
    "***\n",
    "\n",
    "#INTEGRATION/ DIFFERENTIATING FUNCTIONS\n",
    "\n",
    "* Reimann Integration - Unit 4 Lecture 2\n",
    "* Forward/Backward/Central Difference Derivations - Unit 5 Lecture 2, Homework 5 Electricity Example\n",
    "* Using Quad function to integrate - Unit 5 Lecture 2"
   ]
  },
  {
   "cell_type": "markdown",
   "metadata": {},
   "source": [
    "***\n",
    "#SOLVING ODES/LINEAR ALGEBRA\n",
    "\n",
    "**See Unit 12 and HW 12**"
   ]
  },
  {
   "cell_type": "markdown",
   "metadata": {},
   "source": [
    "***\n",
    "\n",
    "#SAMPLING\n",
    "\n",
    "** See Homework 5 that has to do with sampling Student Debt Example**"
   ]
  },
  {
   "cell_type": "markdown",
   "metadata": {},
   "source": [
    "***\n",
    "##Plotting in Python"
   ]
  },
  {
   "cell_type": "code",
   "execution_count": null,
   "metadata": {
    "collapsed": false
   },
   "outputs": [],
   "source": [
    "#A regular plot\n",
    "plt.plot(x,y, 'o', label ='data')\n",
    "plt.plot(x,alpha_hat + beta_hat * x, label = 'Linear Regression')\n",
    "plt.title('')\n",
    "plt.xlabel('')\n",
    "plt.ylabel('')\n",
    "plt.legend(loc = '')\n",
    "seaborn.set_context('talk')\n",
    "plt.show()\n",
    "\n",
    "#A histogram of continuous data\n",
    "plt.hist()\n",
    "plt.show()\n",
    "\n",
    "#Complex, Discrete Histograms are in Unit 5 Lecture 1"
   ]
  }
 ],
 "metadata": {
  "kernelspec": {
   "display_name": "Python 2",
   "language": "python",
   "name": "python2"
  },
  "language_info": {
   "codemirror_mode": {
    "name": "ipython",
    "version": 2
   },
   "file_extension": ".py",
   "mimetype": "text/x-python",
   "name": "python",
   "nbconvert_exporter": "python",
   "pygments_lexer": "ipython2",
   "version": "2.7.8"
  }
 },
 "nbformat": 4,
 "nbformat_minor": 0
}
