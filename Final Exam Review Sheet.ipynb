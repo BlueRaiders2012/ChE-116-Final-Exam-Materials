{
 "cells": [
  {
   "cell_type": "markdown",
   "metadata": {},
   "source": [
    "Logan Williamson\n",
    "====\n",
    "ChE 116 Final Exam Review Sheet\n",
    "----"
   ]
  },
  {
   "cell_type": "markdown",
   "metadata": {},
   "source": [
    "##Z-Scores\n",
    "\n",
    "*Double-Sided:\n",
    "    $$95\\space percent = 1.96$$\n",
    "    $$90\\space percent = 1.65$$\n",
    "\n",
    "*Single-Sided:\n",
    "    $$95\\space percent = 1.65$$"
   ]
  },
  {
   "cell_type": "markdown",
   "metadata": {},
   "source": [
    "##Prediction Intervals ($\\mu$ and $\\sigma$ known)\n",
    "\n",
    "**Note: Prediction Intervals are $\\underline{Probability}$ Not Statistics!**\n",
    "\n",
    "* Double-Sided:\n",
    "    $$Z = \\frac{y}{\\sigma}$$\n",
    "  \n",
    "\n",
    "* Single-Sided:\n",
    "    $$Z = \\frac{y - \\mu}{\\sigma}$$\n",
    " \n",
    "Then:\n",
    "    $x = \\mu \\pm y$ "
   ]
  },
  {
   "cell_type": "markdown",
   "metadata": {},
   "source": [
    "##Confidence Intervals ($\\mu$ unknown, $\\sigma$ either known or unknown)"
   ]
  },
  {
   "cell_type": "markdown",
   "metadata": {},
   "source": [
    "##Stardard Normal, Error Function"
   ]
  },
  {
   "cell_type": "markdown",
   "metadata": {},
   "source": [
    "##Optimization and Root Finding"
   ]
  },
  {
   "cell_type": "markdown",
   "metadata": {},
   "source": [
    "##Hypothesis Tests"
   ]
  },
  {
   "cell_type": "markdown",
   "metadata": {},
   "source": [
    "##Maximum Likelihood Estimation"
   ]
  },
  {
   "cell_type": "markdown",
   "metadata": {},
   "source": [
    "##Bootstrap Resampling and Quantiling Confidence Intervals"
   ]
  },
  {
   "cell_type": "markdown",
   "metadata": {},
   "source": [
    "##Uncertainty Analysis (3 Methods)"
   ]
  },
  {
   "cell_type": "markdown",
   "metadata": {},
   "source": [
    "##Ordinary Least Squares Regression (5 Cases)"
   ]
  },
  {
   "cell_type": "markdown",
   "metadata": {},
   "source": [
    "##Weighted Least Squares Regression (3 Cases)"
   ]
  },
  {
   "cell_type": "markdown",
   "metadata": {},
   "source": [
    "##Integration/ Differentiating "
   ]
  },
  {
   "cell_type": "markdown",
   "metadata": {},
   "source": [
    "##Solving ODES"
   ]
  },
  {
   "cell_type": "code",
   "execution_count": null,
   "metadata": {
    "collapsed": true
   },
   "outputs": [],
   "source": []
  }
 ],
 "metadata": {
  "kernelspec": {
   "display_name": "Python 2",
   "language": "python",
   "name": "python2"
  },
  "language_info": {
   "codemirror_mode": {
    "name": "ipython",
    "version": 2
   },
   "file_extension": ".py",
   "mimetype": "text/x-python",
   "name": "python",
   "nbconvert_exporter": "python",
   "pygments_lexer": "ipython2",
   "version": "2.7.8"
  }
 },
 "nbformat": 4,
 "nbformat_minor": 0
}
